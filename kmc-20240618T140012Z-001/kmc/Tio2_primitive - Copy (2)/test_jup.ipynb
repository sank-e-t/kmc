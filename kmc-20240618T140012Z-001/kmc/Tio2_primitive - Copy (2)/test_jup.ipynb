{
 "cells": [
  {
   "cell_type": "code",
   "execution_count": 19,
   "id": "b5138846",
   "metadata": {},
   "outputs": [
    {
     "name": "stdout",
     "output_type": "stream",
     "text": [
      "Vibrational energy of H2 0.0003128537485559697 ZPE 0.27282735822131243\n",
      "rotational 0.04793061308672932\n",
      "activation energy 0.8200000000000001 $\\mu$ -1.1439069226820633\n",
      "adsorption rate limits reaction 2:  0.00017315358096431656 8.538173378371542e-07\n",
      "desorption rate limits reaction 2:  223586697876.58362 1102502172.3121383\n",
      "Vibrational energy of H 0\n",
      "activation energy 0.08 $\\mu$ -1.1549415109999965\n",
      "adsorption rate limits reaction 3:  2.0176980536896094 10.51086586395655\n",
      "desorption rate limits reaction 3:  1.577178840424957e-05 8.216053539261352e-05\n",
      "Eyring fwd bwd 1799548477742.1936 8.216053539243714e-05\n",
      "Vibrational energy of H 0\n",
      "activation energy 0.08 $\\mu$ -1.247039575952862\n",
      "adsorption rate limits reaction 0:  15.872558022358266 1.33612701660465\n",
      "desorption rate limits reaction 0:  1.170696729936815e-13 9.8547412894377e-15\n",
      "activation energy 0.12 $\\mu$ -1.247039575952862\n",
      "adsorption rate limits reaction 4:  6.4801848220525935 0.5454917853278373\n",
      "desorption rate limits reaction 4:  334.0675274931826 28.121280024632227\n",
      "k_deS_ads_ratio 51.552160419302204 mu -1.247039575952862\n",
      "activation energy 0.0 $\\mu$ -1.247039575952862\n",
      "adsorption rate limits reaction 5:  162.09323692355835 8.016167936716867\n",
      "desorption rate limits reaction 5:  0.006926594913389939 0.00034254820934649806\n",
      "0.40623401193688086\n",
      "Vibrational energy of H2O 0.000538816447459708 ZPE 0.5584250949460537\n",
      "rotational 0.206431854992796\n",
      "activation energy 1.1102230246251565e-16 $\\mu$ -2.2480644249026236\n",
      "q_rot:  101.82560887945897\n",
      "adsorption rate limits reaction 1:  4.090631226651517e-06 1.4706534899954235e-09\n",
      "desorption rate limits reaction 1:  41803964.264218576 15029.256497203787\n",
      "activation energy both sides:  1.1102230246251565e-16 0.91\n",
      "done!\n",
      "4.605187683069795 3.396603215260509e-14 0\n",
      "7.756224010276724e-08 792642.7325894573 1\n",
      "1.215901022024091e-05 15700471970.900467 2\n",
      "4.605187683069788 3.5997480181148215e-05 3\n",
      "1.8801296731438029 96.92474651899953 4\n",
      "36.046728125937854 0.0015403547268244043 5\n"
     ]
    },
    {
     "data": {
      "text/plain": [
       "'\\n###stype defined:\\nvo2c == -1\\no2c == 0\\no3c == 1\\nti5c == 2\\nti6c == 3\\n'"
      ]
     },
     "execution_count": 19,
     "metadata": {},
     "output_type": "execute_result"
    }
   ],
   "source": [
    "\"\"\"Script that runs the tutorial for A adsorption and desorption.\n",
    " \n",
    "\"\"\"\n",
    "import numpy as np\n",
    "#from ase.build import fcc100\n",
    "from user_sites import Site\n",
    "from user_system import System\n",
    "from user_kmc import NeighborKMC\n",
    "from user_events import (O2CAdsEvent, VO2CAdsEvent, H2AdsEvent, O3CAdsEvent, HO2CAdsEvent, Ti5CAdsEvent,O2CDesEvent, VO2CDesEvent, H2DesEvent, O3CDesEvent, HO2CDesEvent, Ti5CDesEvent )\n",
    "from ase import *\n",
    "from ase.io import *\n",
    "#from ase.visualize import view\n",
    "\n",
    "\n",
    "\n",
    "import sys\n",
    "from ase import Atoms\n",
    "import ase.units as au\n",
    "from ase.build import molecule\n",
    "import ase.thermochemistry as tchem\n",
    "\n",
    "import mkm\n",
    "\n",
    "import numpy as np\n",
    "from numpy import pi, exp, log\n",
    "from scipy.integrate import ode\n",
    "import matplotlib.pyplot as m\n",
    "\n",
    "h_planck = au._hplanck*au.J*au.s\n",
    "#-----------------------------------------------------------------------------------------------------------------------------------------------------------------------------------------------\n",
    "########CONSTANTS#####################################################\n",
    "######################################################################\n",
    "######################################################################\n",
    "\n",
    "\n",
    "\n",
    "\n",
    "\n",
    "\n",
    "\n",
    "\n",
    "\n",
    "\n",
    "\n",
    "\n",
    "\n",
    "\n",
    "A = 6.684 * 3.005\n",
    "p_H2 = 1e-5 * au.bar\n",
    "\n",
    "p_H2O = 1e-8 * p_H2 # #20 bar, 200: 1 bar, 400: 1 Pa 265   #### changed 0405 aenm SI\n",
    "\n",
    "\n",
    "p_H = 0.7/100.0 * p_H2 # \n",
    "p_Pa = p_H2/au.bar*1e5\n",
    "\n",
    "T = 518.15\n",
    "\n",
    "A1 = 1.5\n",
    "\n",
    "A2 = 11.8\n",
    "\n",
    "\n",
    "\n",
    "\n",
    "\n",
    "\n",
    "\n"
   ]
  },
  {
   "cell_type": "code",
   "execution_count": 20,
   "id": "65c9679c",
   "metadata": {},
   "outputs": [
    {
     "name": "stdout",
     "output_type": "stream",
     "text": [
      "40\n",
      "o2c [0, 6, 8, 10, 13, 16, 21, 22] o3c [1, 2, 3, 4, 5, 7, 9, 11, 12, 14, 15, 17, 18, 19, 20, 23]\n",
      "-------------------------------------------------- \n",
      " MonteCoffee Simulation Initialized \n",
      " -------------------------------------------------- \n",
      "\n",
      "kMC simulation loading ...\n",
      "Initializing First Reaction method lists ...\n",
      "Scaling based on the function: scale_rate_constant\n",
      "Loading logging and counters...\n",
      "\n",
      "Running simulation.\n",
      "Time :  0.008276556809651938 \t Covs : [0.95, 0.05, 0.0]\n",
      "Time :  0.013196874970554329 \t Covs : [0.925, 0.075, 0.0]\n",
      "Time :  0.017306894664055154 \t Covs : [0.9, 0.1, 0.0]\n",
      "Time :  0.021888970791811846 \t Covs : [0.875, 0.125, 0.0]\n",
      "Time :  0.022324711271844565 \t Covs : [0.85, 0.15, 0.0]\n",
      "Time :  0.028262312583967223 \t Covs : [0.825, 0.175, 0.0]\n",
      "Time :  0.03203401082521564 \t Covs : [0.8, 0.2, 0.0]\n",
      "Time :  0.04591345625904386 \t Covs : [0.8, 0.175, 0.025]\n",
      "Time :  0.0459153677001986 \t Covs : [0.825, 0.175, 0.0]\n",
      "Time :  0.04668035134241264 \t Covs : [0.8, 0.2, 0.0]\n",
      "Time :  0.047230924577656666 \t Covs : [0.775, 0.225, 0.0]\n",
      "Time :  0.05322261791872402 \t Covs : [0.75, 0.25, 0.0]\n",
      "Time :  0.05682109773829669 \t Covs : [0.725, 0.275, 0.0]\n",
      "Time :  0.059033067028689774 \t Covs : [0.7, 0.3, 0.0]\n",
      "Time :  0.0760604947352928 \t Covs : [0.675, 0.325, 0.0]\n",
      "Time :  0.08352766536893781 \t Covs : [0.65, 0.35, 0.0]\n",
      "Time :  0.10122257321598854 \t Covs : [0.625, 0.375, 0.0]\n",
      "Time :  0.1143830160892961 \t Covs : [0.6, 0.4, 0.0]\n",
      "Time :  0.12141840146650208 \t Covs : [0.575, 0.425, 0.0]\n",
      "Time :  0.12460612095408519 \t Covs : [0.55, 0.45, 0.0]\n",
      "Time :  0.1580158365942995 \t Covs : [0.525, 0.475, 0.0]\n",
      "Time :  0.17867585439002712 \t Covs : [0.5, 0.5, 0.0]\n",
      "Time :  0.1927589673856842 \t Covs : [0.475, 0.525, 0.0]\n",
      "Time :  0.28700319862553464 \t Covs : [0.475, 0.5, 0.025]\n",
      "Time :  0.28700342540652357 \t Covs : [0.5, 0.5, 0.0]\n",
      "Time :  0.31507810175226963 \t Covs : [0.475, 0.525, 0.0]\n",
      "Time :  0.34800643466461806 \t Covs : [0.45, 0.55, 0.0]\n",
      "Time :  0.35481225152364687 \t Covs : [0.45, 0.525, 0.025]\n",
      "Time :  0.35481235502404174 \t Covs : [0.475, 0.525, 0.0]\n",
      "Time :  0.40842841729470136 \t Covs : [0.475, 0.5, 0.025]\n",
      "Time :  0.4084301209856774 \t Covs : [0.5, 0.5, 0.0]\n",
      "Time :  0.42660890218001574 \t Covs : [0.475, 0.525, 0.0]\n",
      "Time :  0.442275946034898 \t Covs : [0.45, 0.55, 0.0]\n",
      "Time :  0.4524876809281269 \t Covs : [0.425, 0.575, 0.0]\n",
      "Time :  0.4705675718606636 \t Covs : [0.4, 0.6, 0.0]\n",
      "Time :  0.657338733448677 \t Covs : [0.4, 0.575, 0.025]\n",
      "Time :  0.6573390292059044 \t Covs : [0.425, 0.575, 0.0]\n",
      "Time :  0.7796024996118767 \t Covs : [0.425, 0.55, 0.025]\n",
      "Time :  0.7796056125345933 \t Covs : [0.45, 0.55, 0.0]\n",
      "Time :  0.8337479286547262 \t Covs : [0.425, 0.575, 0.0]\n",
      "Time :  0.8421397278782314 \t Covs : [0.425, 0.55, 0.025]\n",
      "Time :  0.8421404630643061 \t Covs : [0.45, 0.55, 0.0]\n",
      "Time :  1.6955331905460742 \t Covs : [0.45, 0.525, 0.025]\n",
      "Time :  1.6955333325873048 \t Covs : [0.475, 0.525, 0.0]\n",
      "Time :  62.12555684662988 \t Covs : [0.5, 0.5, 0.0]\n",
      "Saving .txt files ...\n",
      "Simulation end time reached ! ! !\n"
     ]
    }
   ],
   "source": [
    "from ase.visualize import view\n",
    "\n",
    "\n",
    "def run_test():\n",
    "    \"\"\"Runs the test of A adsorption and desorption over a surface.\n",
    "\n",
    "    First, constants are defined and old output files cleared.\n",
    "    Next, the sites, events, system and simulation objects\n",
    "    are loaded, and the simulation is performed.\n",
    "\n",
    "    Last, the results are read in from the generated.txt files,\n",
    "    and plotted using matplotlib.\n",
    "\n",
    "    \"\"\"\n",
    "    tend = 4.0 # seconds\n",
    "    np.savetxt(\"time.txt\", [])\n",
    "    np.savetxt(\"coverages.txt\", [])\n",
    "\n",
    "    \n",
    "\n",
    "\n",
    "\n",
    "    sys2 = read('CONTCAR_243')\n",
    "    #view(sys2)\n",
    "    sys = sys2\n",
    "    #print(sys.positions[0][3])\n",
    "    del sys[[atom.index for atom in sys if sys.positions[atom.index][2] < 24]]\n",
    "    view(sys)\n",
    "    Ti5c_list = [32, 35, 24, 30, 37, 34, 26, 28]\n",
    "    Ti6c_list = [31, 36, 38, 29, 39, 33, 27, 25]\n",
    "\n",
    "    a_list = sys.get_chemical_symbols()\n",
    "    print(len(a_list))\n",
    "    Ti_list = [n for n in range(len(a_list)) if a_list[n]=='Ti' ]\n",
    "    O_list = [n for n in range(len(a_list)) if a_list[n]=='O' ]\n",
    "\n",
    "    O2c_list = []\n",
    "    O3c_list = []\n",
    "    for ind in O_list:\n",
    "        if sys.positions[ind][2]> 24.8:\n",
    "            O2c_list.append(ind)\n",
    "        elif sys.positions[ind][2]< 24.8:\n",
    "            O3c_list.append(ind)\n",
    "\n",
    "    print('o2c', O2c_list, 'o3c', O3c_list)\n",
    "    sites = []\n",
    "    for i in range(len(a_list)):\n",
    "        if i in O2c_list:\n",
    "            s = 0\n",
    "        elif i in O3c_list:\n",
    "            s = 1\n",
    "        elif i in Ti5c_list:\n",
    "            s = 2\n",
    "        else:\n",
    "            s = 3\n",
    "        sites.append(Site(stype = s, covered = 0, ind = i))\n",
    "    p = System(atoms= sys, sites = sites)\n",
    "    p.set_neighbors(Ncutoff = 2, pbc = False)\n",
    "    #view(sys)\n",
    "\n",
    "\n",
    "\n",
    "\n",
    "\n",
    "\n",
    "\n",
    "\n",
    "    # Set the global neighborlist based on distances:\n",
    "\n",
    "    events = [O2CAdsEvent, VO2CAdsEvent, H2AdsEvent, O3CAdsEvent, HO2CAdsEvent, Ti5CAdsEvent, O2CDesEvent, VO2CDesEvent, H2DesEvent, O3CDesEvent, HO2CDesEvent, Ti5CDesEvent]\n",
    "    reverse_events = {0:6, 1:7, 2:8, 3:9, 4:10, 5:11}\n",
    "#    parameters = {\"pH2\": pCO, \"pO2\": pO2, \"T\": T,\n",
    "    parameters = { \"Name\": \"Primitive Simulation\", 'A': A, 'A1': A1, 'A2': A2,'p_H2':p_H2, 'p_H2O': p_H2O, 'p_H': p_H, 'T': T, 'Events': events, \"reverses \": reverse_events}\n",
    "\n",
    "    # Instantiate simulator object.\n",
    "    sim = NeighborKMC(system=p, tend= tend,\n",
    "                      parameters=parameters,\n",
    "                      events=events, rev_events = reverse_events)\n",
    "\n",
    "    # Run the simulation.\n",
    "    sim.run_kmc()\n",
    "    print(\"Simulation end time reached ! ! !\")\n",
    "\n",
    "if __name__ == '__main__':\n",
    "    run_test()\n"
   ]
  },
  {
   "cell_type": "code",
   "execution_count": 21,
   "id": "9fca1f83",
   "metadata": {},
   "outputs": [
    {
     "name": "stdout",
     "output_type": "stream",
     "text": [
      "45 45 45\n",
      "[0. 0. 0. 0. 0. 0. 0. 0. 0. 0. 0. 0. 0. 0. 0. 0. 0. 0. 0. 0. 0. 0. 0. 0.\n",
      " 0. 0. 0. 0. 0. 0. 0. 0. 0. 0. 0. 0. 0. 0. 0. 0. 0. 0. 0. 0. 0.]\n",
      "[0. 0. 0. 0. 0. 1. 1. 1. 1. 1. 1. 1. 1. 1. 1. 1. 1. 1. 1. 1. 1. 1. 1. 1.\n",
      " 1. 1. 1. 1. 1. 1. 1. 1. 1. 1. 1. 1. 1. 1. 1. 1. 1. 1. 1. 1. 1.]\n",
      "[0. 0. 0. 0. 0. 0. 0. 0. 0. 0. 0. 0. 0. 0. 0. 0. 0. 0. 0. 0. 0. 0. 0. 0.\n",
      " 0. 0. 0. 0. 0. 0. 0. 0. 0. 0. 0. 0. 0. 0. 0. 0. 0. 0. 0. 0. 0.]\n",
      "[0. 0. 1. 1. 1. 1. 1. 1. 1. 1. 1. 1. 1. 1. 1. 1. 1. 1. 1. 1. 1. 1. 1. 1.\n",
      " 1. 1. 1. 1. 1. 1. 1. 1. 1. 1. 1. 1. 1. 1. 1. 1. 1. 1. 1. 1. 1.]\n",
      "[0. 0. 0. 0. 0. 0. 0. 0. 0. 0. 0. 0. 0. 0. 1. 1. 1. 1. 1. 1. 1. 1. 1. 1.\n",
      " 1. 1. 1. 1. 1. 1. 1. 1. 1. 1. 1. 1. 1. 1. 1. 1. 1. 1. 1. 1. 1.]\n",
      "[0. 0. 0. 0. 1. 1. 1. 1. 1. 1. 1. 1. 1. 1. 1. 1. 1. 1. 1. 1. 1. 1. 1. 1.\n",
      " 1. 1. 1. 1. 1. 1. 1. 1. 1. 1. 1. 1. 1. 1. 1. 1. 1. 1. 1. 1. 1.]\n",
      "[0. 0. 0. 0. 0. 0. 0. 0. 0. 0. 0. 0. 0. 0. 0. 0. 0. 0. 0. 0. 0. 0. 0. 0.\n",
      " 0. 0. 0. 0. 0. 0. 0. 0. 0. 0. 0. 0. 0. 0. 0. 0. 0. 0. 0. 0. 0.]\n",
      "[0. 0. 0. 1. 1. 1. 1. 1. 1. 1. 1. 1. 1. 1. 1. 1. 1. 1. 1. 1. 1. 1. 1. 1.\n",
      " 1. 1. 1. 1. 1. 1. 1. 1. 1. 1. 1. 1. 1. 1. 1. 1. 1. 1. 1. 1. 0.]\n"
     ]
    },
    {
     "data": {
      "image/png": "[encoded data removed]",
      "text/plain": [
       "<Figure size 640x480 with 1 Axes>"
      ]
     },
     "metadata": {},
     "output_type": "display_data"
    }
   ],
   "source": [
    "import matplotlib.pyplot as plt\n",
    "time = np.loadtxt('time.txt')\n",
    "cov_A = np.loadtxt('coverages.txt')\n",
    "print(len(time), len(cov_A), len(cov_A[:,1]))\n",
    "sum = 0*time\n",
    "Ti5c_list = [32, 35, 24, 30, 37, 34, 26, 28]\n",
    "for ind in Ti5c_list:\n",
    "    sum += cov_A[:, ind]\n",
    "    print(cov_A[:,ind])\n",
    "plt.plot(time[:-1], sum[:-1]/len(Ti5c_list), '-k')\n",
    "plt.xlabel(\"Time [s]\")\n",
    "plt.ylabel(\"Coverage\")\n",
    "plt.savefig('coverage_Ti5c.pdf')"
   ]
  },
  {
   "cell_type": "code",
   "execution_count": 22,
   "id": "a8f5410a",
   "metadata": {},
   "outputs": [
    {
     "name": "stdout",
     "output_type": "stream",
     "text": [
      "45 45 45 40\n",
      "[0. 0. 0. 0. 0. 0. 0. 0. 0. 0. 0. 0. 0. 0. 0. 0. 0. 0. 0. 0. 0. 0. 0. 0.\n",
      " 0. 0. 0. 0. 0. 0. 0. 0. 0. 0. 0. 0. 0. 0. 0. 0. 0. 0. 0. 0. 0.]\n",
      "[0. 0. 0. 0. 0. 0. 0. 0. 0. 0. 0. 0. 0. 0. 0. 0. 0. 0. 0. 0. 0. 0. 0. 0.\n",
      " 0. 0. 0. 0. 0. 0. 0. 0. 0. 0. 0. 0. 0. 0. 0. 0. 0. 0. 0. 0. 0.]\n",
      "[0. 0. 0. 0. 0. 0. 0. 0. 0. 0. 0. 0. 0. 0. 0. 0. 0. 0. 0. 0. 0. 0. 0. 0.\n",
      " 0. 0. 0. 0. 0. 0. 0. 0. 0. 0. 0. 0. 0. 0. 0. 0. 0. 0. 0. 0. 0.]\n",
      "[0. 0. 0. 0. 0. 0. 0. 0. 0. 0. 0. 0. 0. 0. 0. 0. 0. 0. 0. 0. 0. 0. 0. 0.\n",
      " 0. 0. 0. 0. 0. 0. 0. 0. 0. 0. 0. 0. 0. 0. 0. 0. 0. 0. 0. 0. 0.]\n",
      "[0. 0. 0. 0. 0. 0. 0. 0. 0. 0. 0. 0. 0. 0. 0. 0. 0. 0. 0. 0. 0. 0. 0. 0.\n",
      " 0. 0. 0. 0. 0. 0. 0. 0. 0. 0. 0. 0. 0. 0. 0. 0. 0. 0. 0. 0. 0.]\n",
      "[0. 0. 0. 0. 0. 0. 0. 0. 0. 0. 0. 0. 0. 0. 0. 0. 0. 0. 0. 0. 0. 0. 0. 0.\n",
      " 0. 0. 0. 0. 0. 0. 0. 0. 0. 0. 0. 0. 0. 0. 0. 0. 0. 0. 0. 0. 0.]\n",
      "[0. 0. 0. 0. 0. 0. 0. 0. 0. 0. 0. 0. 0. 0. 0. 0. 0. 0. 0. 0. 0. 0. 0. 0.\n",
      " 0. 0. 0. 0. 0. 0. 0. 0. 0. 0. 0. 0. 0. 0. 0. 0. 0. 0. 0. 0. 0.]\n",
      "[0. 0. 0. 0. 0. 0. 0. 0. 0. 0. 0. 0. 0. 0. 0. 0. 0. 0. 0. 0. 0. 0. 0. 0.\n",
      " 0. 0. 0. 0. 0. 0. 0. 0. 0. 0. 0. 0. 0. 0. 0. 0. 0. 0. 0. 0. 0.]\n"
     ]
    },
    {
     "data": {
      "image/png": "[encoded data removed]",
      "text/plain": [
       "<Figure size 640x480 with 1 Axes>"
      ]
     },
     "metadata": {},
     "output_type": "display_data"
    }
   ],
   "source": [
    "\n",
    "print(len(time), len(cov_A), len(cov_A[:,1]), len(cov_A[1,:]))\n",
    "sum = 0*time\n",
    "Ti6c_list = [31, 36, 38, 29, 39, 33, 27, 25]\n",
    "for ind in Ti6c_list:\n",
    "    sum += cov_A[:, ind]\n",
    "    print(cov_A[:,ind])\n",
    "plt.plot(time[:-1], sum[:-1]/len(Ti6c_list), '-k')\n",
    "plt.xlabel(\"Time [s]\")\n",
    "plt.ylabel(\"Coverage\")\n",
    "plt.savefig('coverage_Ti6c.pdf')\n"
   ]
  },
  {
   "cell_type": "code",
   "execution_count": 23,
   "id": "c94e0e35",
   "metadata": {},
   "outputs": [
    {
     "name": "stdout",
     "output_type": "stream",
     "text": [
      "45 45 45\n",
      "[0. 0. 0. 0. 0. 0. 0. 0. 0. 1. 1. 1. 1. 1. 1. 1. 1. 1. 1. 1. 1. 1. 1. 2.\n",
      " 0. 0. 0. 0. 0. 0. 0. 0. 0. 0. 0. 0. 0. 0. 0. 0. 0. 0. 0. 0. 0.]\n",
      "[0. 0. 0. 0. 0. 0. 0. 0. 0. 0. 0. 0. 0. 0. 0. 0. 0. 0. 0. 0. 1. 1. 1. 1.\n",
      " 1. 1. 1. 1. 1. 2. 0. 0. 0. 0. 0. 0. 0. 0. 0. 0. 0. 0. 0. 0. 0.]\n",
      "[0. 0. 0. 0. 0. 0. 0. 0. 0. 0. 0. 0. 0. 0. 0. 0. 1. 1. 1. 1. 1. 1. 1. 1.\n",
      " 1. 1. 1. 2. 0. 0. 0. 0. 0. 0. 0. 0. 0. 0. 0. 0. 0. 0. 0. 0. 0.]\n",
      "[0. 0. 0. 0. 0. 0. 0. 0. 0. 0. 1. 1. 1. 1. 1. 1. 1. 1. 1. 1. 1. 1. 1. 1.\n",
      " 1. 1. 1. 1. 1. 1. 1. 1. 1. 1. 1. 1. 1. 1. 1. 1. 1. 1. 2. 0. 0.]\n",
      "[0. 0. 0. 0. 0. 0. 1. 2. 0. 0. 0. 0. 0. 0. 0. 0. 0. 0. 0. 0. 0. 0. 0. 0.\n",
      " 0. 0. 0. 0. 0. 0. 0. 0. 0. 0. 0. 0. 0. 0. 0. 0. 0. 0. 0. 0. 0.]\n",
      "[0. 0. 0. 0. 0. 0. 0. 0. 0. 0. 0. 0. 0. 0. 0. 0. 0. 0. 0. 0. 0. 0. 0. 0.\n",
      " 0. 1. 1. 1. 1. 1. 1. 1. 1. 1. 1. 2. 0. 0. 0. 0. 0. 0. 0. 0. 0.]\n",
      "[0. 0. 0. 0. 0. 0. 0. 0. 0. 0. 0. 0. 0. 0. 0. 0. 0. 0. 0. 0. 0. 0. 0. 0.\n",
      " 0. 0. 0. 0. 0. 0. 0. 0. 0. 1. 1. 1. 1. 2. 0. 0. 0. 0. 0. 0. 0.]\n",
      "[0. 0. 0. 0. 0. 0. 0. 0. 0. 0. 0. 0. 0. 0. 0. 0. 0. 0. 0. 0. 0. 0. 1. 1.\n",
      " 1. 1. 1. 1. 1. 1. 1. 1. 1. 1. 1. 1. 1. 1. 1. 1. 2. 0. 0. 0. 0.]\n"
     ]
    },
    {
     "data": {
      "image/png": "[encoded data removed]",
      "text/plain": [
       "<Figure size 640x480 with 1 Axes>"
      ]
     },
     "metadata": {},
     "output_type": "display_data"
    }
   ],
   "source": [
    "O2c_list = [0, 6, 8, 10, 13, 16, 21, 22]\n",
    "\n",
    "print(len(time), len(cov_A), len(cov_A[:,1]))\n",
    "sum = 0\n",
    "\n",
    "for ind in O2c_list:\n",
    "    sum += cov_A[:, ind]\n",
    "    print(cov_A[:,ind])\n",
    "plt.plot(time[:-1], sum[:-1]/len(O2c_list), '-k')\n",
    "plt.xlabel(\"Time [s]\")\n",
    "plt.ylabel(\"Coverage\")\n",
    "plt.savefig('coverage_O2c.pdf')"
   ]
  },
  {
   "cell_type": "code",
   "execution_count": 24,
   "id": "0abcff4a",
   "metadata": {},
   "outputs": [
    {
     "name": "stdout",
     "output_type": "stream",
     "text": [
      "[0. 1. 1. 1. 1. 1. 1. 1. 1. 1. 1. 1. 1. 1. 1. 1. 1. 1. 1. 1. 1. 1. 1. 1.\n",
      " 1. 1. 1. 1. 1. 1. 1. 1. 1. 1. 1. 1. 1. 1. 1. 1. 1. 1. 1. 1. 1.]\n",
      "[0. 0. 0. 0. 0. 0. 0. 0. 0. 0. 0. 0. 0. 0. 0. 1. 1. 1. 1. 1. 1. 1. 1. 1.\n",
      " 1. 1. 1. 1. 1. 1. 1. 1. 1. 1. 1. 1. 1. 1. 1. 1. 1. 1. 1. 1. 1.]\n",
      "[0. 0. 0. 0. 0. 0. 0. 0. 0. 0. 0. 1. 1. 1. 1. 1. 1. 1. 1. 1. 1. 1. 1. 1.\n",
      " 1. 1. 1. 1. 1. 1. 1. 1. 1. 1. 1. 1. 1. 1. 1. 1. 1. 1. 1. 1. 1.]\n",
      "[0. 0. 0. 0. 0. 0. 0. 0. 0. 0. 0. 0. 0. 0. 0. 0. 0. 0. 1. 1. 1. 1. 1. 1.\n",
      " 1. 1. 1. 1. 1. 1. 1. 1. 1. 1. 1. 1. 1. 1. 1. 1. 1. 1. 1. 1. 1.]\n",
      "[0. 0. 0. 0. 0. 0. 0. 0. 0. 0. 0. 0. 0. 0. 0. 0. 0. 0. 0. 0. 0. 0. 0. 0.\n",
      " 0. 0. 0. 0. 0. 0. 0. 1. 1. 1. 1. 1. 1. 1. 1. 1. 1. 1. 1. 1. 1.]\n",
      "[1. 1. 1. 1. 1. 1. 1. 1. 1. 1. 1. 1. 1. 1. 1. 1. 1. 1. 1. 1. 1. 1. 1. 1.\n",
      " 1. 1. 1. 1. 1. 1. 1. 1. 1. 1. 1. 1. 1. 1. 1. 1. 1. 1. 1. 1. 1.]\n",
      "[0. 0. 0. 0. 0. 0. 0. 0. 0. 0. 0. 0. 0. 0. 0. 0. 0. 0. 0. 0. 0. 0. 0. 0.\n",
      " 0. 0. 0. 0. 0. 0. 0. 0. 0. 0. 0. 0. 0. 0. 0. 1. 1. 1. 1. 1. 1.]\n",
      "[0. 0. 0. 0. 0. 0. 0. 0. 0. 0. 0. 0. 0. 0. 0. 0. 0. 0. 0. 0. 0. 1. 1. 1.\n",
      " 1. 1. 1. 1. 1. 1. 1. 1. 1. 1. 1. 1. 1. 1. 1. 1. 1. 1. 1. 1. 1.]\n",
      "[0. 0. 0. 0. 0. 0. 0. 0. 0. 0. 0. 0. 0. 0. 0. 0. 0. 0. 0. 0. 0. 0. 0. 0.\n",
      " 0. 0. 0. 0. 0. 0. 0. 0. 0. 0. 1. 1. 1. 1. 1. 1. 1. 1. 1. 1. 1.]\n",
      "[0. 0. 0. 0. 0. 0. 0. 0. 0. 0. 0. 0. 0. 0. 0. 0. 0. 1. 1. 1. 1. 1. 1. 1.\n",
      " 1. 1. 1. 1. 1. 1. 1. 1. 1. 1. 1. 1. 1. 1. 1. 1. 1. 1. 1. 1. 1.]\n",
      "[0. 0. 0. 0. 0. 0. 0. 0. 0. 0. 0. 0. 0. 0. 0. 0. 0. 0. 0. 1. 1. 1. 1. 1.\n",
      " 1. 1. 1. 1. 1. 1. 1. 1. 1. 1. 1. 1. 1. 1. 1. 1. 1. 1. 1. 1. 1.]\n",
      "[0. 0. 0. 0. 0. 0. 0. 0. 0. 0. 0. 0. 1. 1. 1. 1. 1. 1. 1. 1. 1. 1. 1. 1.\n",
      " 1. 1. 1. 1. 1. 1. 1. 1. 1. 1. 1. 1. 1. 1. 1. 1. 1. 1. 1. 1. 1.]\n",
      "[0. 0. 0. 0. 0. 0. 0. 0. 0. 0. 0. 0. 0. 0. 0. 0. 0. 0. 0. 0. 0. 0. 0. 0.\n",
      " 0. 0. 0. 0. 0. 0. 0. 0. 1. 1. 1. 1. 1. 1. 1. 1. 1. 1. 1. 1. 1.]\n",
      "[0. 0. 0. 0. 0. 0. 0. 0. 0. 0. 0. 0. 0. 0. 0. 0. 0. 0. 0. 0. 0. 0. 0. 0.\n",
      " 0. 0. 1. 1. 1. 1. 1. 1. 1. 1. 1. 1. 1. 1. 1. 1. 1. 1. 1. 1. 1.]\n",
      "[1. 1. 1. 1. 1. 1. 1. 1. 1. 1. 1. 1. 1. 1. 1. 1. 1. 1. 1. 1. 1. 1. 1. 1.\n",
      " 1. 1. 1. 1. 1. 1. 1. 1. 1. 1. 1. 1. 1. 1. 1. 1. 1. 1. 1. 1. 1.]\n",
      "[0. 0. 0. 0. 0. 0. 0. 0. 0. 0. 0. 0. 0. 1. 1. 1. 1. 1. 1. 1. 1. 1. 1. 1.\n",
      " 1. 1. 1. 1. 1. 1. 1. 1. 1. 1. 1. 1. 1. 1. 1. 1. 1. 1. 1. 1. 1.]\n"
     ]
    },
    {
     "data": {
      "image/png": "[encoded data removed]",
      "text/plain": [
       "<Figure size 640x480 with 1 Axes>"
      ]
     },
     "metadata": {},
     "output_type": "display_data"
    }
   ],
   "source": [
    "O3c_list = [1, 2, 3, 4, 5, 7, 9, 11, 12, 14, 15, 17, 18, 19, 20, 23]\n",
    "\n",
    "sum = 0\n",
    "\n",
    "for ind in O3c_list:\n",
    "    sum += cov_A[:, ind]\n",
    "    print(cov_A[:, ind])\n",
    "plt.plot(time[:-1], sum[:-1]/len(O3c_list), '-k')\n",
    "plt.xlabel(\"Time [s]\")\n",
    "plt.ylabel(\"Coverage\")\n",
    "plt.savefig('coverage_O3c.pdf')"
   ]
  },
  {
   "cell_type": "code",
   "execution_count": null,
   "id": "e5886050",
   "metadata": {},
   "outputs": [],
   "source": []
  },
  {
   "cell_type": "code",
   "execution_count": 25,
   "id": "562f103d",
   "metadata": {},
   "outputs": [],
   "source": [
    "import h5py\n",
    "with h5py.File('detail_site_event_evol.hdf5','a') as f2:\n",
    "    time_list = np.array(f2[\"time\"])\n",
    "    event_list = np.array(f2[\"event\"])\n",
    "    site_list = np.array(f2[\"site\"])\n",
    "    othersite_list = np.array(f2[\"othersite\"])\n",
    "\n",
    "    "
   ]
  },
  {
   "cell_type": "code",
   "execution_count": 26,
   "id": "cb19b28b",
   "metadata": {},
   "outputs": [
    {
     "name": "stdout",
     "output_type": "stream",
     "text": [
      "[0.00000000e+00 7.77122107e-03 8.27655681e-03 1.31968750e-02\n",
      " 1.73068947e-02 2.18889708e-02 2.23247113e-02 2.82623126e-02\n",
      " 3.20340108e-02 4.59134563e-02 4.59153677e-02 4.66803513e-02\n",
      " 4.72309246e-02 5.32226179e-02 5.68210977e-02 5.90330670e-02\n",
      " 7.60604947e-02 8.35276654e-02 1.01222573e-01 1.14383016e-01\n",
      " 1.21418401e-01 1.24606121e-01 1.58015837e-01 1.78675854e-01\n",
      " 1.92758967e-01 2.87003199e-01 2.87003425e-01 3.15078102e-01\n",
      " 3.48006435e-01 3.54812252e-01 3.54812355e-01 4.08428417e-01\n",
      " 4.08430121e-01 4.26608902e-01 4.42275946e-01 4.52487681e-01\n",
      " 4.70567572e-01 6.57338733e-01 6.57339029e-01 7.79602500e-01\n",
      " 7.79605613e-01 8.33747929e-01 8.42139728e-01 8.42140463e-01\n",
      " 1.69553319e+00 1.69553333e+00 6.21255568e+01]\n",
      "[ 0  3  3  3  5  5  5  5  0  4  7  0  0  3  3  3  5  3  0  3  3  3  0  3\n",
      "  0  4  7  0  3  4  7  4  7  3  3  0  3  4  7  4  7  3  4  7  4  7 11]\n",
      "[ 0  7 20  1 30 28 34 35 13 13 13  0 10  3 17 23 37  2  8 14  4 15  6 11\n",
      " 22  0  0 16 19  8  8  6  6  5 18 21 12 16 16 21 21  9 22 22 10 10 28]\n",
      "[ 0 26 37 26  9  1  3  4 29 29 29 25 29 26 24 37 14 26 31 34 24 34 33 32\n",
      " 36 25 25 27 32 31 31 33 33 24 32 25 32 27 27 25 25 24 36 36 29 29  1]\n",
      "47 47 47\n"
     ]
    }
   ],
   "source": [
    "print(time_list)\n",
    "print(event_list)\n",
    "print( site_list)\n",
    "print(othersite_list)\n",
    "print(len(time_list), len(event_list), len(site_list))\n"
   ]
  },
  {
   "cell_type": "code",
   "execution_count": null,
   "id": "bfc285c2",
   "metadata": {},
   "outputs": [],
   "source": []
  },
  {
   "cell_type": "code",
   "execution_count": 27,
   "id": "335f77f3",
   "metadata": {},
   "outputs": [
    {
     "name": "stdout",
     "output_type": "stream",
     "text": [
      "0 0\n",
      "3 7\n",
      "3 20\n",
      "3 1\n",
      "5 30\n",
      "5 28\n",
      "5 34\n",
      "5 35\n",
      "0 13\n",
      "4 13\n",
      "7 13\n",
      "0 0\n",
      "0 10\n",
      "3 3\n",
      "3 17\n",
      "3 23\n",
      "5 37\n",
      "3 2\n",
      "0 8\n",
      "3 14\n",
      "3 4\n",
      "3 15\n",
      "0 6\n",
      "3 11\n",
      "0 22\n",
      "4 0\n",
      "7 0\n",
      "0 16\n",
      "3 19\n",
      "4 8\n",
      "7 8\n",
      "4 6\n",
      "7 6\n",
      "3 5\n",
      "3 18\n",
      "0 21\n",
      "3 12\n",
      "4 16\n",
      "7 16\n",
      "4 21\n",
      "7 21\n",
      "3 9\n",
      "4 22\n",
      "7 22\n",
      "4 10\n",
      "7 10\n",
      "11 28\n",
      "[0. 0. 0. 0. 0. 0. 0. 0. 0. 0. 0. 0. 0. 0. 0. 0. 0. 0. 0. 0. 0. 0. 0. 0.\n",
      " 0. 0. 0. 0. 0. 0. 0. 0. 0. 0. 0. 0. 0. 0. 0. 0. 0. 0. 0. 0. 0. 0. 0.]\n"
     ]
    }
   ],
   "source": [
    "#O2CAdsEvent, VO2CAdsEvent, H2AdsEvent, O3CAdsEvent, HO2CAdsEvent, Ti5CAdsEvent,\n",
    "#O2CDesEvent, VO2CDesEvent, H2DesEvent, O3CDesEvent, HO2CDesEvent, Ti5CDesEvent\n",
    "#o2c [0, 6, 8, 10, 13, 16, 21, 22] o3c [1, 2, 3, 4, 5, 7, 9, 11, 12, 14, 15, 17, 18, 19, 20, 23]\n",
    "\n",
    "coverage = np.zeros((len(time_list), 40))\n",
    "for ind in range(len(time_list)):\n",
    "    event = event_list[ind]\n",
    "    if event == 0 and coverage[ind, site_list[ind]] == 0:\n",
    "        coverage[ind:-1, site_list[ind]] = +1\n",
    "    elif event ==1 and coverage[ind, site_list[ind]] == 0:\n",
    "        coverage[ind:-1, site_list[ind]] =  1.0*coverage[ind, site_list[ind]] +2\n",
    "    elif event == 2 and coverage[ind, site_list[ind]] == 0:\n",
    "        coverage[ind:-1, site_list[ind]] =  1.0*coverage[ind, site_list[ind]] +1\n",
    "        coverage[ind:-1, othersite_list[ind]] =  1.0*coverage[ind, othersite_list[ind]] +1\n",
    "    elif event == 3 and coverage[ind, site_list[ind]] == 0:\n",
    "        coverage[ind:-1, site_list[ind]] =  1.0*coverage[ind, site_list[ind]] +1\n",
    "    elif event == 4 and coverage[ind, site_list[ind]] == 1:\n",
    "        coverage[ind:-1, site_list[ind]] =  1.0*coverage[ind, site_list[ind]] +1\n",
    "    elif event == 5 and coverage[ind, site_list[ind]] == 0:\n",
    "        coverage[ind:-1, site_list[ind]] =  1.0*coverage[ind, site_list[ind]] +1\n",
    "    elif event == 6 and coverage[ind, site_list[ind]] == 1:\n",
    "        coverage[ind:-1, site_list[ind]] = 1.0*coverage[ind, site_list[ind]] -1\n",
    "    elif event == 7 and coverage[ind, site_list[ind]] == 2:\n",
    "        coverage[ind:-1, site_list[ind]] =  1.0*coverage[ind, site_list[ind]] -2\n",
    "    elif event == 8 and coverage[ind, site_list[ind]] == 1:\n",
    "        coverage[ind:-1, site_list[ind]] =  1.0*coverage[ind, site_list[ind]] -1\n",
    "        coverage[ind:-1, othersite_list[ind]] =  1.0*coverage[ind, othersite_list[ind]] -1\n",
    "    elif event == 9 and coverage[ind, site_list[ind]] == 1:\n",
    "        coverage[ind:-1, site_list[ind]] =  1.0*coverage[ind, site_list[ind]] -1\n",
    "    elif event == 10 and coverage[ind, site_list[ind]] == 2:\n",
    "        coverage[ind:-1, site_list[ind]] =  1.0*coverage[ind, site_list[ind]] -1\n",
    "    elif event == 11 and coverage[ind, site_list[ind]] == 1:\n",
    "        coverage[ind:-1, site_list[ind]] =  1.0*coverage[ind, site_list[ind]] -1\n",
    "    print(event, site_list[ind])\n",
    "print(coverage[:,36])\n",
    "        "
   ]
  },
  {
   "cell_type": "code",
   "execution_count": 28,
   "id": "69fa77f6",
   "metadata": {},
   "outputs": [
    {
     "data": {
      "text/plain": [
       "array([0., 0., 0., 0., 0., 0., 0., 0., 0., 0., 0., 0., 0., 0., 0., 0., 0.,\n",
       "       0., 0., 0., 0., 0., 0., 0., 0., 0., 0., 0., 0., 0., 0., 0., 0., 0.,\n",
       "       0., 0., 0., 0., 0., 0., 0., 0., 0., 0., 0., 0., 0.])"
      ]
     },
     "execution_count": 28,
     "metadata": {},
     "output_type": "execute_result"
    }
   ],
   "source": [
    "0*time_list"
   ]
  },
  {
   "cell_type": "code",
   "execution_count": 29,
   "id": "e7484cf1",
   "metadata": {},
   "outputs": [
    {
     "name": "stdout",
     "output_type": "stream",
     "text": [
      "[0. 0. 0. 1. 1. 1. 1. 1. 1. 1. 1. 1. 1. 1. 1. 1. 1. 1. 1. 1. 1. 1. 1. 1.\n",
      " 1. 1. 1. 1. 1. 1. 1. 1. 1. 1. 1. 1. 1. 1. 1. 1. 1. 1. 1. 1. 1. 1. 0.]\n",
      "[0. 0. 0. 0. 0. 0. 0. 0. 0. 0. 0. 0. 0. 0. 0. 0. 0. 1. 1. 1. 1. 1. 1. 1.\n",
      " 1. 1. 1. 1. 1. 1. 1. 1. 1. 1. 1. 1. 1. 1. 1. 1. 1. 1. 1. 1. 1. 1. 0.]\n",
      "[0. 0. 0. 0. 0. 0. 0. 0. 0. 0. 0. 0. 0. 1. 1. 1. 1. 1. 1. 1. 1. 1. 1. 1.\n",
      " 1. 1. 1. 1. 1. 1. 1. 1. 1. 1. 1. 1. 1. 1. 1. 1. 1. 1. 1. 1. 1. 1. 0.]\n",
      "[0. 0. 0. 0. 0. 0. 0. 0. 0. 0. 0. 0. 0. 0. 0. 0. 0. 0. 0. 0. 1. 1. 1. 1.\n",
      " 1. 1. 1. 1. 1. 1. 1. 1. 1. 1. 1. 1. 1. 1. 1. 1. 1. 1. 1. 1. 1. 1. 0.]\n",
      "[0. 0. 0. 0. 0. 0. 0. 0. 0. 0. 0. 0. 0. 0. 0. 0. 0. 0. 0. 0. 0. 0. 0. 0.\n",
      " 0. 0. 0. 0. 0. 0. 0. 0. 0. 1. 1. 1. 1. 1. 1. 1. 1. 1. 1. 1. 1. 1. 0.]\n",
      "[0. 1. 1. 1. 1. 1. 1. 1. 1. 1. 1. 1. 1. 1. 1. 1. 1. 1. 1. 1. 1. 1. 1. 1.\n",
      " 1. 1. 1. 1. 1. 1. 1. 1. 1. 1. 1. 1. 1. 1. 1. 1. 1. 1. 1. 1. 1. 1. 0.]\n",
      "[0. 0. 0. 0. 0. 0. 0. 0. 0. 0. 0. 0. 0. 0. 0. 0. 0. 0. 0. 0. 0. 0. 0. 0.\n",
      " 0. 0. 0. 0. 0. 0. 0. 0. 0. 0. 0. 0. 0. 0. 0. 0. 0. 1. 1. 1. 1. 1. 0.]\n",
      "[0. 0. 0. 0. 0. 0. 0. 0. 0. 0. 0. 0. 0. 0. 0. 0. 0. 0. 0. 0. 0. 0. 0. 1.\n",
      " 1. 1. 1. 1. 1. 1. 1. 1. 1. 1. 1. 1. 1. 1. 1. 1. 1. 1. 1. 1. 1. 1. 0.]\n",
      "[0. 0. 0. 0. 0. 0. 0. 0. 0. 0. 0. 0. 0. 0. 0. 0. 0. 0. 0. 0. 0. 0. 0. 0.\n",
      " 0. 0. 0. 0. 0. 0. 0. 0. 0. 0. 0. 0. 1. 1. 1. 1. 1. 1. 1. 1. 1. 1. 0.]\n",
      "[0. 0. 0. 0. 0. 0. 0. 0. 0. 0. 0. 0. 0. 0. 0. 0. 0. 0. 0. 1. 1. 1. 1. 1.\n",
      " 1. 1. 1. 1. 1. 1. 1. 1. 1. 1. 1. 1. 1. 1. 1. 1. 1. 1. 1. 1. 1. 1. 0.]\n",
      "[0. 0. 0. 0. 0. 0. 0. 0. 0. 0. 0. 0. 0. 0. 0. 0. 0. 0. 0. 0. 0. 1. 1. 1.\n",
      " 1. 1. 1. 1. 1. 1. 1. 1. 1. 1. 1. 1. 1. 1. 1. 1. 1. 1. 1. 1. 1. 1. 0.]\n",
      "[0. 0. 0. 0. 0. 0. 0. 0. 0. 0. 0. 0. 0. 0. 1. 1. 1. 1. 1. 1. 1. 1. 1. 1.\n",
      " 1. 1. 1. 1. 1. 1. 1. 1. 1. 1. 1. 1. 1. 1. 1. 1. 1. 1. 1. 1. 1. 1. 0.]\n",
      "[0. 0. 0. 0. 0. 0. 0. 0. 0. 0. 0. 0. 0. 0. 0. 0. 0. 0. 0. 0. 0. 0. 0. 0.\n",
      " 0. 0. 0. 0. 0. 0. 0. 0. 0. 0. 1. 1. 1. 1. 1. 1. 1. 1. 1. 1. 1. 1. 0.]\n",
      "[0. 0. 0. 0. 0. 0. 0. 0. 0. 0. 0. 0. 0. 0. 0. 0. 0. 0. 0. 0. 0. 0. 0. 0.\n",
      " 0. 0. 0. 0. 1. 1. 1. 1. 1. 1. 1. 1. 1. 1. 1. 1. 1. 1. 1. 1. 1. 1. 0.]\n",
      "[0. 0. 1. 1. 1. 1. 1. 1. 1. 1. 1. 1. 1. 1. 1. 1. 1. 1. 1. 1. 1. 1. 1. 1.\n",
      " 1. 1. 1. 1. 1. 1. 1. 1. 1. 1. 1. 1. 1. 1. 1. 1. 1. 1. 1. 1. 1. 1. 0.]\n",
      "[0. 0. 0. 0. 0. 0. 0. 0. 0. 0. 0. 0. 0. 0. 0. 1. 1. 1. 1. 1. 1. 1. 1. 1.\n",
      " 1. 1. 1. 1. 1. 1. 1. 1. 1. 1. 1. 1. 1. 1. 1. 1. 1. 1. 1. 1. 1. 1. 0.]\n"
     ]
    },
    {
     "data": {
      "image/png": "[encoded data removed]",
      "text/plain": [
       "<Figure size 640x480 with 1 Axes>"
      ]
     },
     "metadata": {},
     "output_type": "display_data"
    }
   ],
   "source": [
    "import matplotlib.pyplot as plt\n",
    "O3c_list = [1, 2, 3, 4, 5, 7, 9, 11, 12, 14, 15, 17, 18, 19, 20, 23]\n",
    "sum = 0*time_list\n",
    "\n",
    "for ind in O3c_list:\n",
    "    sum += coverage[:, ind]\n",
    "    print(coverage[:, ind])\n",
    "plt.plot(time_list[:-1], sum[:-1]/len(O3c_list), '-k')\n",
    "plt.xlabel(\"Time [s]\")\n",
    "plt.ylabel(\"Coverage\")\n",
    "plt.savefig('coverage_O3c.pdf')"
   ]
  },
  {
   "cell_type": "code",
   "execution_count": 16,
   "id": "8e205d9d",
   "metadata": {},
   "outputs": [
    {
     "name": "stdout",
     "output_type": "stream",
     "text": [
      "[1. 1. 1. 1. 1. 1. 1. 1. 1. 1. 1. 1. 1. 1. 1. 1. 1. 1. 1. 1. 1. 1. 1. 1.\n",
      " 1. 1. 1. 1. 1. 1. 1. 1. 2. 0. 0. 0. 0. 0. 0. 0. 0. 0. 0. 0. 0. 0. 0.]\n",
      "[0. 0. 0. 0. 0. 0. 0. 0. 0. 0. 0. 0. 0. 1. 1. 1. 1. 1. 1. 1. 1. 1. 1. 1.\n",
      " 1. 1. 1. 1. 1. 1. 1. 1. 1. 1. 1. 1. 1. 1. 1. 1. 1. 1. 1. 1. 1. 1. 0.]\n",
      "[0. 0. 0. 0. 0. 0. 0. 0. 0. 0. 0. 0. 0. 0. 0. 0. 0. 0. 0. 0. 0. 0. 0. 0.\n",
      " 0. 0. 1. 1. 1. 1. 1. 1. 1. 1. 1. 1. 1. 1. 1. 1. 1. 1. 1. 1. 1. 1. 0.]\n",
      "[0. 0. 1. 1. 1. 1. 1. 1. 1. 1. 1. 1. 1. 1. 1. 1. 1. 1. 1. 1. 1. 1. 1. 1.\n",
      " 1. 1. 1. 1. 1. 1. 1. 1. 1. 1. 1. 1. 1. 1. 1. 1. 1. 1. 1. 1. 1. 1. 0.]\n",
      "[0. 0. 0. 0. 0. 0. 0. 0. 0. 0. 0. 0. 0. 0. 0. 0. 0. 0. 0. 0. 0. 0. 0. 0.\n",
      " 0. 0. 0. 0. 0. 0. 0. 0. 0. 0. 0. 0. 0. 0. 0. 0. 0. 0. 0. 1. 1. 1. 0.]\n",
      "[0. 0. 0. 0. 0. 0. 0. 0. 1. 1. 1. 1. 1. 1. 1. 1. 1. 1. 1. 1. 1. 1. 1. 1.\n",
      " 1. 1. 1. 1. 1. 1. 1. 1. 1. 1. 1. 1. 1. 1. 1. 1. 1. 1. 1. 1. 1. 1. 0.]\n",
      "[0. 0. 0. 0. 0. 0. 0. 0. 0. 0. 0. 0. 0. 0. 0. 0. 0. 1. 1. 1. 1. 1. 1. 1.\n",
      " 1. 1. 1. 1. 1. 1. 1. 1. 1. 1. 1. 1. 1. 1. 1. 1. 1. 1. 1. 1. 2. 0. 0.]\n",
      "[0. 0. 0. 1. 1. 1. 1. 1. 1. 1. 1. 1. 1. 1. 1. 1. 1. 1. 1. 1. 1. 1. 1. 1.\n",
      " 1. 1. 1. 1. 1. 1. 1. 1. 1. 1. 1. 1. 1. 1. 1. 1. 1. 1. 1. 1. 1. 1. 0.]\n"
     ]
    },
    {
     "data": {
      "image/png": "[encoded data removed]",
      "text/plain": [
       "<Figure size 640x480 with 1 Axes>"
      ]
     },
     "metadata": {},
     "output_type": "display_data"
    }
   ],
   "source": [
    "O2c_list = [0, 6, 8, 10, 13, 16, 21, 22]\n",
    "\n",
    "sum = 0*time_list\n",
    "\n",
    "for ind in range(len(O2c_list)):\n",
    "    sum += coverage[:, ind]\n",
    "    print(coverage[:,ind])\n",
    "plt.plot(time_list[:-1], sum[:-1]/len(O2c_list), '-k')\n",
    "plt.xlabel(\"Time [s]\")\n",
    "plt.ylabel(\"Coverage\")\n",
    "plt.savefig('coverage_O2c.pdf')"
   ]
  },
  {
   "cell_type": "code",
   "execution_count": 17,
   "id": "bb5e5356",
   "metadata": {},
   "outputs": [
    {
     "name": "stdout",
     "output_type": "stream",
     "text": [
      "[1. 1. 1. 1. 1. 1. 1. 1. 1. 1. 1. 1. 1. 1. 1. 1. 1. 1. 1. 1. 1. 1. 1. 1.\n",
      " 1. 1. 1. 1. 1. 1. 1. 1. 2. 0. 0. 0. 0. 0. 0. 0. 0. 0. 0. 0. 0. 0. 0.]\n",
      "[0. 0. 0. 0. 0. 0. 0. 0. 0. 0. 0. 0. 0. 1. 1. 1. 1. 1. 1. 1. 1. 1. 1. 1.\n",
      " 1. 1. 1. 1. 1. 1. 1. 1. 1. 1. 1. 1. 1. 1. 1. 1. 1. 1. 1. 1. 1. 1. 0.]\n",
      "[0. 0. 0. 0. 0. 0. 0. 0. 0. 0. 0. 0. 0. 0. 0. 0. 0. 0. 0. 0. 0. 0. 0. 0.\n",
      " 0. 0. 1. 1. 1. 1. 1. 1. 1. 1. 1. 1. 1. 1. 1. 1. 1. 1. 1. 1. 1. 1. 0.]\n",
      "[0. 0. 1. 1. 1. 1. 1. 1. 1. 1. 1. 1. 1. 1. 1. 1. 1. 1. 1. 1. 1. 1. 1. 1.\n",
      " 1. 1. 1. 1. 1. 1. 1. 1. 1. 1. 1. 1. 1. 1. 1. 1. 1. 1. 1. 1. 1. 1. 0.]\n",
      "[0. 0. 0. 0. 0. 0. 0. 0. 0. 0. 0. 0. 0. 0. 0. 0. 0. 0. 0. 0. 0. 0. 0. 0.\n",
      " 0. 0. 0. 0. 0. 0. 0. 0. 0. 0. 0. 0. 0. 0. 0. 0. 0. 0. 0. 1. 1. 1. 0.]\n",
      "[0. 0. 0. 0. 0. 0. 0. 0. 1. 1. 1. 1. 1. 1. 1. 1. 1. 1. 1. 1. 1. 1. 1. 1.\n",
      " 1. 1. 1. 1. 1. 1. 1. 1. 1. 1. 1. 1. 1. 1. 1. 1. 1. 1. 1. 1. 1. 1. 0.]\n",
      "[0. 0. 0. 0. 0. 0. 0. 0. 0. 0. 0. 0. 0. 0. 0. 0. 0. 1. 1. 1. 1. 1. 1. 1.\n",
      " 1. 1. 1. 1. 1. 1. 1. 1. 1. 1. 1. 1. 1. 1. 1. 1. 1. 1. 1. 1. 2. 0. 0.]\n",
      "[0. 0. 0. 1. 1. 1. 1. 1. 1. 1. 1. 1. 1. 1. 1. 1. 1. 1. 1. 1. 1. 1. 1. 1.\n",
      " 1. 1. 1. 1. 1. 1. 1. 1. 1. 1. 1. 1. 1. 1. 1. 1. 1. 1. 1. 1. 1. 1. 0.]\n"
     ]
    },
    {
     "data": {
      "image/png": "[encoded data removed]",
      "text/plain": [
       "<Figure size 640x480 with 1 Axes>"
      ]
     },
     "metadata": {},
     "output_type": "display_data"
    }
   ],
   "source": [
    "sum = 0*time_list\n",
    "Ti6c_list = [31, 36, 38, 29, 39, 33, 27, 25]\n",
    "for ind in range(len(Ti6c_list)):\n",
    "    sum += coverage[:, ind]\n",
    "    print(coverage[:,ind])\n",
    "plt.plot(time_list[:-1], sum[:-1]/len(Ti6c_list), '-k')\n",
    "plt.xlabel(\"Time [s]\")\n",
    "plt.ylabel(\"Coverage\")\n",
    "plt.savefig('coverage_Ti6c.pdf')\n"
   ]
  },
  {
   "cell_type": "code",
   "execution_count": null,
   "id": "503035cb",
   "metadata": {},
   "outputs": [],
   "source": []
  }
 ],
 "metadata": {
  "kernelspec": {
   "display_name": "Python 3 (ipykernel)",
   "language": "python",
   "name": "python3"
  },
  "language_info": {
   "codemirror_mode": {
    "name": "ipython",
    "version": 3
   },
   "file_extension": ".py",
   "mimetype": "text/x-python",
   "name": "python",
   "nbconvert_exporter": "python",
   "pygments_lexer": "ipython3",
   "version": "3.9.7"
  }
 },
 "nbformat": 4,
 "nbformat_minor": 5
}
